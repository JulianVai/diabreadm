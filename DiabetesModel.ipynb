{
 "cells": [
  {
   "cell_type": "markdown",
   "id": "fantastic-rendering",
   "metadata": {},
   "source": [
    "# Import Prepared Data\n",
    "On the previous noteboook \"DiabetesEDA.ipynb\" the data was prepared to a one-hot-encoder format for the categorical variables, several variables with an important number of missing values were droped and the numerical data was revised, the prepared data is available here."
   ]
  },
  {
   "cell_type": "code",
   "execution_count": 26,
   "id": "outer-plumbing",
   "metadata": {},
   "outputs": [],
   "source": [
    "import pandas as pd\n",
    "import numpy as np\n",
    "import matplotlib.pyplot as plt\n",
    "import os"
   ]
  },
  {
   "cell_type": "code",
   "execution_count": 14,
   "id": "solved-entrepreneur",
   "metadata": {},
   "outputs": [],
   "source": [
    "D_ROUTE = os.path.abspath(os.getcwd())\n",
    "d_diab_dum = pd.read_pickle(f'{D_ROUTE}/Data/d_diab_dum.pickle')"
   ]
  },
  {
   "cell_type": "markdown",
   "id": "monetary-fairy",
   "metadata": {},
   "source": [
    "## The Plan.\n",
    "Now the steps for the analysis are:\n",
    "1. Split the data into train, validate and test set with the distribution 80, 10, 10.\n",
    "2. Train a base classification model.\n",
    "3. Train Several Models, to se how they perform.\n",
    "4. Make a grid search on the hyperparemeters of the best model to improve it.\n"
   ]
  },
  {
   "cell_type": "markdown",
   "id": "circular-accreditation",
   "metadata": {},
   "source": [
    "#### Drop encounter_id and patient_nbr"
   ]
  },
  {
   "cell_type": "code",
   "execution_count": 15,
   "id": "electronic-subcommittee",
   "metadata": {},
   "outputs": [
    {
     "data": {
      "text/html": [
       "<div>\n",
       "<style scoped>\n",
       "    .dataframe tbody tr th:only-of-type {\n",
       "        vertical-align: middle;\n",
       "    }\n",
       "\n",
       "    .dataframe tbody tr th {\n",
       "        vertical-align: top;\n",
       "    }\n",
       "\n",
       "    .dataframe thead th {\n",
       "        text-align: right;\n",
       "    }\n",
       "</style>\n",
       "<table border=\"1\" class=\"dataframe\">\n",
       "  <thead>\n",
       "    <tr style=\"text-align: right;\">\n",
       "      <th></th>\n",
       "      <th>age</th>\n",
       "      <th>time_in_hospital</th>\n",
       "      <th>num_lab_procedures</th>\n",
       "      <th>num_procedures</th>\n",
       "      <th>num_medications</th>\n",
       "      <th>number_outpatient</th>\n",
       "      <th>number_emergency</th>\n",
       "      <th>number_inpatient</th>\n",
       "      <th>number_diagnoses</th>\n",
       "      <th>readmitted</th>\n",
       "      <th>...</th>\n",
       "      <th>glimepiride-pioglitazone_No</th>\n",
       "      <th>glimepiride-pioglitazone_Steady</th>\n",
       "      <th>metformin-rosiglitazone_No</th>\n",
       "      <th>metformin-rosiglitazone_Steady</th>\n",
       "      <th>metformin-pioglitazone_No</th>\n",
       "      <th>metformin-pioglitazone_Steady</th>\n",
       "      <th>change_Ch</th>\n",
       "      <th>change_No</th>\n",
       "      <th>diabetesMed_No</th>\n",
       "      <th>diabetesMed_Yes</th>\n",
       "    </tr>\n",
       "  </thead>\n",
       "  <tbody>\n",
       "    <tr>\n",
       "      <th>0</th>\n",
       "      <td>0</td>\n",
       "      <td>1</td>\n",
       "      <td>41</td>\n",
       "      <td>0</td>\n",
       "      <td>1</td>\n",
       "      <td>0</td>\n",
       "      <td>0</td>\n",
       "      <td>0</td>\n",
       "      <td>1</td>\n",
       "      <td>1</td>\n",
       "      <td>...</td>\n",
       "      <td>1</td>\n",
       "      <td>0</td>\n",
       "      <td>1</td>\n",
       "      <td>0</td>\n",
       "      <td>1</td>\n",
       "      <td>0</td>\n",
       "      <td>0</td>\n",
       "      <td>1</td>\n",
       "      <td>1</td>\n",
       "      <td>0</td>\n",
       "    </tr>\n",
       "    <tr>\n",
       "      <th>1</th>\n",
       "      <td>10</td>\n",
       "      <td>3</td>\n",
       "      <td>59</td>\n",
       "      <td>0</td>\n",
       "      <td>18</td>\n",
       "      <td>0</td>\n",
       "      <td>0</td>\n",
       "      <td>0</td>\n",
       "      <td>9</td>\n",
       "      <td>0</td>\n",
       "      <td>...</td>\n",
       "      <td>1</td>\n",
       "      <td>0</td>\n",
       "      <td>1</td>\n",
       "      <td>0</td>\n",
       "      <td>1</td>\n",
       "      <td>0</td>\n",
       "      <td>1</td>\n",
       "      <td>0</td>\n",
       "      <td>0</td>\n",
       "      <td>1</td>\n",
       "    </tr>\n",
       "    <tr>\n",
       "      <th>2</th>\n",
       "      <td>20</td>\n",
       "      <td>2</td>\n",
       "      <td>11</td>\n",
       "      <td>5</td>\n",
       "      <td>13</td>\n",
       "      <td>2</td>\n",
       "      <td>0</td>\n",
       "      <td>1</td>\n",
       "      <td>6</td>\n",
       "      <td>1</td>\n",
       "      <td>...</td>\n",
       "      <td>1</td>\n",
       "      <td>0</td>\n",
       "      <td>1</td>\n",
       "      <td>0</td>\n",
       "      <td>1</td>\n",
       "      <td>0</td>\n",
       "      <td>0</td>\n",
       "      <td>1</td>\n",
       "      <td>0</td>\n",
       "      <td>1</td>\n",
       "    </tr>\n",
       "    <tr>\n",
       "      <th>3</th>\n",
       "      <td>30</td>\n",
       "      <td>2</td>\n",
       "      <td>44</td>\n",
       "      <td>1</td>\n",
       "      <td>16</td>\n",
       "      <td>0</td>\n",
       "      <td>0</td>\n",
       "      <td>0</td>\n",
       "      <td>7</td>\n",
       "      <td>1</td>\n",
       "      <td>...</td>\n",
       "      <td>1</td>\n",
       "      <td>0</td>\n",
       "      <td>1</td>\n",
       "      <td>0</td>\n",
       "      <td>1</td>\n",
       "      <td>0</td>\n",
       "      <td>1</td>\n",
       "      <td>0</td>\n",
       "      <td>0</td>\n",
       "      <td>1</td>\n",
       "    </tr>\n",
       "    <tr>\n",
       "      <th>4</th>\n",
       "      <td>40</td>\n",
       "      <td>1</td>\n",
       "      <td>51</td>\n",
       "      <td>0</td>\n",
       "      <td>8</td>\n",
       "      <td>0</td>\n",
       "      <td>0</td>\n",
       "      <td>0</td>\n",
       "      <td>5</td>\n",
       "      <td>1</td>\n",
       "      <td>...</td>\n",
       "      <td>1</td>\n",
       "      <td>0</td>\n",
       "      <td>1</td>\n",
       "      <td>0</td>\n",
       "      <td>1</td>\n",
       "      <td>0</td>\n",
       "      <td>1</td>\n",
       "      <td>0</td>\n",
       "      <td>0</td>\n",
       "      <td>1</td>\n",
       "    </tr>\n",
       "    <tr>\n",
       "      <th>...</th>\n",
       "      <td>...</td>\n",
       "      <td>...</td>\n",
       "      <td>...</td>\n",
       "      <td>...</td>\n",
       "      <td>...</td>\n",
       "      <td>...</td>\n",
       "      <td>...</td>\n",
       "      <td>...</td>\n",
       "      <td>...</td>\n",
       "      <td>...</td>\n",
       "      <td>...</td>\n",
       "      <td>...</td>\n",
       "      <td>...</td>\n",
       "      <td>...</td>\n",
       "      <td>...</td>\n",
       "      <td>...</td>\n",
       "      <td>...</td>\n",
       "      <td>...</td>\n",
       "      <td>...</td>\n",
       "      <td>...</td>\n",
       "      <td>...</td>\n",
       "    </tr>\n",
       "    <tr>\n",
       "      <th>100109</th>\n",
       "      <td>70</td>\n",
       "      <td>3</td>\n",
       "      <td>51</td>\n",
       "      <td>0</td>\n",
       "      <td>16</td>\n",
       "      <td>0</td>\n",
       "      <td>0</td>\n",
       "      <td>0</td>\n",
       "      <td>9</td>\n",
       "      <td>0</td>\n",
       "      <td>...</td>\n",
       "      <td>1</td>\n",
       "      <td>0</td>\n",
       "      <td>1</td>\n",
       "      <td>0</td>\n",
       "      <td>1</td>\n",
       "      <td>0</td>\n",
       "      <td>1</td>\n",
       "      <td>0</td>\n",
       "      <td>0</td>\n",
       "      <td>1</td>\n",
       "    </tr>\n",
       "    <tr>\n",
       "      <th>100110</th>\n",
       "      <td>80</td>\n",
       "      <td>5</td>\n",
       "      <td>33</td>\n",
       "      <td>3</td>\n",
       "      <td>18</td>\n",
       "      <td>0</td>\n",
       "      <td>0</td>\n",
       "      <td>1</td>\n",
       "      <td>9</td>\n",
       "      <td>1</td>\n",
       "      <td>...</td>\n",
       "      <td>1</td>\n",
       "      <td>0</td>\n",
       "      <td>1</td>\n",
       "      <td>0</td>\n",
       "      <td>1</td>\n",
       "      <td>0</td>\n",
       "      <td>0</td>\n",
       "      <td>1</td>\n",
       "      <td>0</td>\n",
       "      <td>1</td>\n",
       "    </tr>\n",
       "    <tr>\n",
       "      <th>100111</th>\n",
       "      <td>70</td>\n",
       "      <td>1</td>\n",
       "      <td>53</td>\n",
       "      <td>0</td>\n",
       "      <td>9</td>\n",
       "      <td>1</td>\n",
       "      <td>0</td>\n",
       "      <td>0</td>\n",
       "      <td>13</td>\n",
       "      <td>1</td>\n",
       "      <td>...</td>\n",
       "      <td>1</td>\n",
       "      <td>0</td>\n",
       "      <td>1</td>\n",
       "      <td>0</td>\n",
       "      <td>1</td>\n",
       "      <td>0</td>\n",
       "      <td>1</td>\n",
       "      <td>0</td>\n",
       "      <td>0</td>\n",
       "      <td>1</td>\n",
       "    </tr>\n",
       "    <tr>\n",
       "      <th>100112</th>\n",
       "      <td>80</td>\n",
       "      <td>10</td>\n",
       "      <td>45</td>\n",
       "      <td>2</td>\n",
       "      <td>21</td>\n",
       "      <td>0</td>\n",
       "      <td>0</td>\n",
       "      <td>1</td>\n",
       "      <td>9</td>\n",
       "      <td>1</td>\n",
       "      <td>...</td>\n",
       "      <td>1</td>\n",
       "      <td>0</td>\n",
       "      <td>1</td>\n",
       "      <td>0</td>\n",
       "      <td>1</td>\n",
       "      <td>0</td>\n",
       "      <td>1</td>\n",
       "      <td>0</td>\n",
       "      <td>0</td>\n",
       "      <td>1</td>\n",
       "    </tr>\n",
       "    <tr>\n",
       "      <th>100113</th>\n",
       "      <td>70</td>\n",
       "      <td>6</td>\n",
       "      <td>13</td>\n",
       "      <td>3</td>\n",
       "      <td>3</td>\n",
       "      <td>0</td>\n",
       "      <td>0</td>\n",
       "      <td>0</td>\n",
       "      <td>9</td>\n",
       "      <td>1</td>\n",
       "      <td>...</td>\n",
       "      <td>1</td>\n",
       "      <td>0</td>\n",
       "      <td>1</td>\n",
       "      <td>0</td>\n",
       "      <td>1</td>\n",
       "      <td>0</td>\n",
       "      <td>0</td>\n",
       "      <td>1</td>\n",
       "      <td>1</td>\n",
       "      <td>0</td>\n",
       "    </tr>\n",
       "  </tbody>\n",
       "</table>\n",
       "<p>100114 rows × 2396 columns</p>\n",
       "</div>"
      ],
      "text/plain": [
       "        age  time_in_hospital  num_lab_procedures  num_procedures  \\\n",
       "0         0                 1                  41               0   \n",
       "1        10                 3                  59               0   \n",
       "2        20                 2                  11               5   \n",
       "3        30                 2                  44               1   \n",
       "4        40                 1                  51               0   \n",
       "...     ...               ...                 ...             ...   \n",
       "100109   70                 3                  51               0   \n",
       "100110   80                 5                  33               3   \n",
       "100111   70                 1                  53               0   \n",
       "100112   80                10                  45               2   \n",
       "100113   70                 6                  13               3   \n",
       "\n",
       "        num_medications  number_outpatient  number_emergency  \\\n",
       "0                     1                  0                 0   \n",
       "1                    18                  0                 0   \n",
       "2                    13                  2                 0   \n",
       "3                    16                  0                 0   \n",
       "4                     8                  0                 0   \n",
       "...                 ...                ...               ...   \n",
       "100109               16                  0                 0   \n",
       "100110               18                  0                 0   \n",
       "100111                9                  1                 0   \n",
       "100112               21                  0                 0   \n",
       "100113                3                  0                 0   \n",
       "\n",
       "        number_inpatient  number_diagnoses  readmitted  ...  \\\n",
       "0                      0                 1           1  ...   \n",
       "1                      0                 9           0  ...   \n",
       "2                      1                 6           1  ...   \n",
       "3                      0                 7           1  ...   \n",
       "4                      0                 5           1  ...   \n",
       "...                  ...               ...         ...  ...   \n",
       "100109                 0                 9           0  ...   \n",
       "100110                 1                 9           1  ...   \n",
       "100111                 0                13           1  ...   \n",
       "100112                 1                 9           1  ...   \n",
       "100113                 0                 9           1  ...   \n",
       "\n",
       "        glimepiride-pioglitazone_No  glimepiride-pioglitazone_Steady  \\\n",
       "0                                 1                                0   \n",
       "1                                 1                                0   \n",
       "2                                 1                                0   \n",
       "3                                 1                                0   \n",
       "4                                 1                                0   \n",
       "...                             ...                              ...   \n",
       "100109                            1                                0   \n",
       "100110                            1                                0   \n",
       "100111                            1                                0   \n",
       "100112                            1                                0   \n",
       "100113                            1                                0   \n",
       "\n",
       "        metformin-rosiglitazone_No  metformin-rosiglitazone_Steady  \\\n",
       "0                                1                               0   \n",
       "1                                1                               0   \n",
       "2                                1                               0   \n",
       "3                                1                               0   \n",
       "4                                1                               0   \n",
       "...                            ...                             ...   \n",
       "100109                           1                               0   \n",
       "100110                           1                               0   \n",
       "100111                           1                               0   \n",
       "100112                           1                               0   \n",
       "100113                           1                               0   \n",
       "\n",
       "        metformin-pioglitazone_No  metformin-pioglitazone_Steady  change_Ch  \\\n",
       "0                               1                              0          0   \n",
       "1                               1                              0          1   \n",
       "2                               1                              0          0   \n",
       "3                               1                              0          1   \n",
       "4                               1                              0          1   \n",
       "...                           ...                            ...        ...   \n",
       "100109                          1                              0          1   \n",
       "100110                          1                              0          0   \n",
       "100111                          1                              0          1   \n",
       "100112                          1                              0          1   \n",
       "100113                          1                              0          0   \n",
       "\n",
       "        change_No  diabetesMed_No  diabetesMed_Yes  \n",
       "0               1               1                0  \n",
       "1               0               0                1  \n",
       "2               1               0                1  \n",
       "3               0               0                1  \n",
       "4               0               0                1  \n",
       "...           ...             ...              ...  \n",
       "100109          0               0                1  \n",
       "100110          1               0                1  \n",
       "100111          0               0                1  \n",
       "100112          0               0                1  \n",
       "100113          1               1                0  \n",
       "\n",
       "[100114 rows x 2396 columns]"
      ]
     },
     "execution_count": 15,
     "metadata": {},
     "output_type": "execute_result"
    }
   ],
   "source": [
    "ids_df = d_diab_dum[['encounter_id', 'patient_nbr']]\n",
    "d_diab_dum = d_diab_dum.drop(['encounter_id', 'patient_nbr'], axis=1)\n",
    "d_diab_dum"
   ]
  },
  {
   "cell_type": "markdown",
   "id": "interesting-cover",
   "metadata": {},
   "source": [
    "### 1. Split the data."
   ]
  },
  {
   "cell_type": "code",
   "execution_count": 4,
   "id": "rubber-cyprus",
   "metadata": {},
   "outputs": [],
   "source": [
    "from sklearn.model_selection import train_test_split"
   ]
  },
  {
   "cell_type": "code",
   "execution_count": 16,
   "id": "corresponding-punch",
   "metadata": {},
   "outputs": [],
   "source": [
    "y_cols = ['readmitted']\n",
    "y = d_diab_dum[y_cols]\n",
    "X = d_diab_dum.drop(y_cols, axis=1)\n"
   ]
  },
  {
   "cell_type": "code",
   "execution_count": 17,
   "id": "hazardous-trick",
   "metadata": {},
   "outputs": [],
   "source": [
    "X_train, X_val, y_train, y_val = train_test_split(X,y,\n",
    "                              test_size=0.1,\n",
    "                              random_state=42,\n",
    "                              )"
   ]
  },
  {
   "cell_type": "code",
   "execution_count": 18,
   "id": "indian-chemistry",
   "metadata": {},
   "outputs": [],
   "source": [
    "X_train, X_test, y_train, y_test = train_test_split(X_train, y_train,\n",
    "                                                    test_size = (1/9),\n",
    "                                                    random_state=42)"
   ]
  },
  {
   "cell_type": "markdown",
   "id": "precious-julian",
   "metadata": {},
   "source": [
    "### Hideout.\n",
    "`X_val` & `y_val` will be used has hideout set for validations.\n",
    "\n",
    "## 2. Base Model"
   ]
  },
  {
   "cell_type": "code",
   "execution_count": 19,
   "id": "federal-experiment",
   "metadata": {},
   "outputs": [],
   "source": [
    "from xgboost import XGBClassifier\n",
    "from xgboost import plot_importance"
   ]
  },
  {
   "cell_type": "code",
   "execution_count": 141,
   "id": "homeless-valentine",
   "metadata": {},
   "outputs": [],
   "source": [
    "xgb_clf = XGBClassifier(n_estimators=500, \n",
    "                          n_jobs=10,\n",
    "                          seed=42)"
   ]
  },
  {
   "cell_type": "code",
   "execution_count": 143,
   "id": "chronic-adjustment",
   "metadata": {},
   "outputs": [
    {
     "name": "stderr",
     "output_type": "stream",
     "text": [
      "/home/jvai/anaconda3/envs/dask/lib/python3.8/site-packages/xgboost/sklearn.py:888: UserWarning: The use of label encoder in XGBClassifier is deprecated and will be removed in a future release. To remove this warning, do the following: 1) Pass option use_label_encoder=False when constructing XGBClassifier object; and 2) Encode your labels (y) as integers starting with 0, i.e. 0, 1, 2, ..., [num_class - 1].\n",
      "  warnings.warn(label_encoder_deprecation_msg, UserWarning)\n"
     ]
    },
    {
     "data": {
      "text/plain": [
       "XGBClassifier(base_score=0.5, booster='gbtree', colsample_bylevel=1,\n",
       "              colsample_bynode=1, colsample_bytree=1, gamma=0, gpu_id=-1,\n",
       "              importance_type='gain', interaction_constraints='',\n",
       "              learning_rate=0.300000012, max_delta_step=0, max_depth=6,\n",
       "              min_child_weight=1, missing=nan, monotone_constraints='()',\n",
       "              n_estimators=500, n_jobs=10, num_parallel_tree=1,\n",
       "              objective='multi:softprob', random_state=42, reg_alpha=0,\n",
       "              reg_lambda=1, scale_pos_weight=None, seed=42, subsample=1,\n",
       "              tree_method='exact', validate_parameters=1, verbosity=None)"
      ]
     },
     "execution_count": 143,
     "metadata": {},
     "output_type": "execute_result"
    }
   ],
   "source": [
    "xgb_clf.fit(X_train,\n",
    "        y_train,\n",
    "        eval_metric = ['logloss','aucpr'],\n",
    "        verbose=True)"
   ]
  },
  {
   "cell_type": "code",
   "execution_count": 138,
   "id": "awful-sender",
   "metadata": {},
   "outputs": [],
   "source": [
    "from sklearn.metrics import accuracy_score\n",
    "from sklearn.metrics import multilabel_confusion_matrix\n",
    "from sklearn.metrics import precision_score\n",
    "from sklearn.metrics import recall_score"
   ]
  },
  {
   "cell_type": "code",
   "execution_count": 144,
   "id": "injured-suspect",
   "metadata": {},
   "outputs": [],
   "source": [
    "y_pred = xgb_clf.predict(X_test)"
   ]
  },
  {
   "cell_type": "code",
   "execution_count": 166,
   "id": "stylish-selection",
   "metadata": {},
   "outputs": [
    {
     "name": "stdout",
     "output_type": "stream",
     "text": [
      "Accuracy: 0.536 \n",
      " Precision: 0.3953433119505821 \n",
      " Recall: 0.393355901629427\n"
     ]
    }
   ],
   "source": [
    "def get_metrics(clf, X_test, y_test):\n",
    "    y_pred = clf.predict(X_test)\n",
    "    acc = accuracy_score(y_test, y_pred)\n",
    "    psc = precision_score(y_test, y_pred, average='macro')\n",
    "    resc = recall_score(y_test, y_pred, average='macro')\n",
    "    \n",
    "    print(f'Accuracy: {acc} \\n \\\n",
    "Precision: {psc} \\n \\\n",
    "Recall: {resc}')\n",
    "    \n",
    "\n",
    "get_metrics(xgb_clf, X_test, y_test)"
   ]
  },
  {
   "cell_type": "code",
   "execution_count": 146,
   "id": "express-thanks",
   "metadata": {},
   "outputs": [
    {
     "data": {
      "text/plain": [
       "array([[[466, 199],\n",
       "        [189, 146]],\n",
       "\n",
       "       [[216, 226],\n",
       "        [174, 384]],\n",
       "\n",
       "       [[854,  39],\n",
       "        [101,   6]]])"
      ]
     },
     "execution_count": 146,
     "metadata": {},
     "output_type": "execute_result"
    }
   ],
   "source": [
    "multilabel_confusion_matrix(y_test, y_pred)"
   ]
  },
  {
   "cell_type": "code",
   "execution_count": 42,
   "id": "thermal-mention",
   "metadata": {},
   "outputs": [
    {
     "data": {
      "text/plain": [
       "array([2, 1, 1, ..., 1, 0, 1])"
      ]
     },
     "execution_count": 42,
     "metadata": {},
     "output_type": "execute_result"
    }
   ],
   "source": [
    "y_test.values.ravel()"
   ]
  },
  {
   "cell_type": "code",
   "execution_count": 32,
   "id": "worthy-consensus",
   "metadata": {},
   "outputs": [
    {
     "data": {
      "image/png": "[encoded data removed]",
      "text/plain": [
       "<Figure size 432x288 with 1 Axes>"
      ]
     },
     "metadata": {
      "needs_background": "light"
     },
     "output_type": "display_data"
    }
   ],
   "source": [
    "from xgboost import plot_importance\n",
    "plot_importance(clf, importance_type='gain', max_num_features=15, \n",
    "                        show_values=False, height=0.6, grid=False)\n",
    "plt.show()"
   ]
  },
  {
   "cell_type": "markdown",
   "id": "miniature-geography",
   "metadata": {},
   "source": [
    "### 3. Train Several Models.\n",
    "For this exercise only 10% of the data will be used."
   ]
  },
  {
   "cell_type": "code",
   "execution_count": 58,
   "id": "liable-medicaid",
   "metadata": {},
   "outputs": [],
   "source": [
    "D_ROUTE = os.path.abspath(os.getcwd())\n",
    "d_10_dum = pd.read_pickle(f'{D_ROUTE}/Data/d_diab_dum_10.pickle')"
   ]
  },
  {
   "cell_type": "code",
   "execution_count": 90,
   "id": "arctic-chile",
   "metadata": {},
   "outputs": [],
   "source": [
    "from sklearn.linear_model import LogisticRegression\n",
    "from sklearn.tree import DecisionTreeClassifier\n",
    "from sklearn.neighbors import KNeighborsClassifier as KNN\n",
    "from sklearn.ensemble import VotingClassifier\n",
    "from sklearn.ensemble import RandomForestClassifier"
   ]
  },
  {
   "cell_type": "code",
   "execution_count": 125,
   "id": "european-arrangement",
   "metadata": {},
   "outputs": [],
   "source": [
    "def split_data(df, target_col, test_size):\n",
    "    y = d_10_dum[target_col]\n",
    "    y = y.values.ravel()\n",
    "    X = d_10_dum.drop(target_col, axis=1)\n",
    "    X = X.values\n",
    "\n",
    "\n",
    "    X_train, X_test, y_train, y_test = train_test_split(X,y,\n",
    "                                  test_size=0.1,\n",
    "                                  random_state=42,\n",
    "                                  )\n",
    "    return X_train, X_test, y_train, y_test\n",
    "\n",
    "\n",
    "\n",
    "# ids_df = d_10_dum[['encounter_id', 'patient_nbr']]\n",
    "# d_10_dum = d_10_dum.drop(['encounter_id', 'patient_nbr'], axis=1)\n",
    "\n",
    "\n",
    "X_train, X_test, y_train, y_test = split_data(d_10_dum,\n",
    "                                              'readmitted',\n",
    "                                              0.1)"
   ]
  },
  {
   "cell_type": "code",
   "execution_count": 110,
   "id": "discrete-motorcycle",
   "metadata": {},
   "outputs": [
    {
     "name": "stdout",
     "output_type": "stream",
     "text": [
      "Random Forest : 0.594\n",
      "K Nearest Neighbours : 0.485\n",
      "Decision Tree : 0.527\n"
     ]
    }
   ],
   "source": [
    "rf = RandomForestClassifier(n_estimators = 500,\n",
    "                            n_jobs = 10)\n",
    "knn = KNN()\n",
    "\n",
    "dt = DecisionTreeClassifier()\n",
    "\n",
    "lr = LogisticRegression()\n",
    "\n",
    "classifiers = [('Random Forest', rf),\n",
    "               ('K Nearest Neighbours', knn),\n",
    "               ('Decision Tree', dt)]\n",
    "\n",
    "for clf_name, clf in classifiers:\n",
    "\t\t# fit clf to the training set\n",
    "\t\tclf.fit(X_train, y_train)\n",
    "\t\t\n",
    "\t\t# Predict the labels of the test set\n",
    "\t\ty_pred = clf.predict(X_test)\n",
    "\t\t\n",
    "\t\t# Evaluate the accuracy of clf on the test set\n",
    "\t\tprint('{:s} : {:.3f}'.format(clf_name, accuracy_score(y_test, y_pred)))"
   ]
  },
  {
   "cell_type": "markdown",
   "id": "undefined-siemens",
   "metadata": {},
   "source": [
    "### Now some democracy:"
   ]
  },
  {
   "cell_type": "code",
   "execution_count": 94,
   "id": "little-connection",
   "metadata": {},
   "outputs": [
    {
     "name": "stdout",
     "output_type": "stream",
     "text": [
      "Voting Classifier: 0.548\n"
     ]
    }
   ],
   "source": [
    "vc = VotingClassifier(estimators=classifiers)\n",
    "\n",
    "# Fit 'vc'to the training set and predict test set labels\n",
    "vc.fit(X_train, y_train)\n",
    "y_pred = vc.predict(X_test)\n",
    "\n",
    "# Evaluate the test-set accuracy of 'vc'\n",
    "print('Voting Classifier: {:.3f}'.format(accuracy_score(y_test, y_pred)))"
   ]
  },
  {
   "cell_type": "markdown",
   "id": "educational-philosophy",
   "metadata": {},
   "source": [
    "# Issues with the data?\n",
    "The accuracy of any of the models tested before is still to low, for make improvements in any of them. Even training with all the data on a XGBClassifier wasn't enough to have significant results. but what about the features that might be causing noise?\n",
    "\n",
    "# PCA\n",
    "Is possible that a dimentionality reduction makes the training data more insightful for posterior analysis. PCA only works for ordinal features so it will be applied to this columns only."
   ]
  },
  {
   "cell_type": "code",
   "execution_count": 113,
   "id": "fifteen-morgan",
   "metadata": {},
   "outputs": [],
   "source": [
    "ord_d_dum = d_diab_dum[['age',\n",
    "            'time_in_hospital',\n",
    "            'num_lab_procedures',\n",
    "            'num_procedures',\n",
    "            'num_medications',\n",
    "            'number_diagnoses',\n",
    "            'readmitted']]"
   ]
  },
  {
   "cell_type": "code",
   "execution_count": 114,
   "id": "weekly-design",
   "metadata": {},
   "outputs": [
    {
     "data": {
      "text/plain": [
       "(100114, 7)"
      ]
     },
     "execution_count": 114,
     "metadata": {},
     "output_type": "execute_result"
    }
   ],
   "source": [
    "ord_d_dum.shape"
   ]
  },
  {
   "cell_type": "code",
   "execution_count": 127,
   "id": "answering-lying",
   "metadata": {},
   "outputs": [],
   "source": [
    "\n",
    "X_train, X_test, y_train, y_test = split_data(ord_d_dum,\n",
    "                                              'readmitted',\n",
    "                                              0.1)"
   ]
  },
  {
   "cell_type": "code",
   "execution_count": 118,
   "id": "informational-journalist",
   "metadata": {},
   "outputs": [
    {
     "data": {
      "text/plain": [
       "0.48651618058330004"
      ]
     },
     "execution_count": 118,
     "metadata": {},
     "output_type": "execute_result"
    }
   ],
   "source": [
    "# Testing a Random Forest first with only ordinal variables.\n",
    "rf = RandomForestClassifier(n_estimators = 500,\n",
    "                            n_jobs = 10)\n",
    "rf.fit(X_train, y_train)\n",
    "y_pred = rf.predict(X_test)\n",
    "accuracy_score(y_test, y_pred)\n"
   ]
  },
  {
   "cell_type": "code",
   "execution_count": 119,
   "id": "perfect-cherry",
   "metadata": {},
   "outputs": [],
   "source": [
    "from sklearn.decomposition import PCA\n",
    "pca = PCA(n_components=5)\n",
    "pca_train = pca.fit_transform(X_train)\n",
    "pca_test = pca.fit_transform(X_test)"
   ]
  },
  {
   "cell_type": "code",
   "execution_count": 120,
   "id": "rational-crossing",
   "metadata": {},
   "outputs": [
    {
     "data": {
      "text/plain": [
       "0.51078705553336"
      ]
     },
     "execution_count": 120,
     "metadata": {},
     "output_type": "execute_result"
    }
   ],
   "source": [
    "rf.fit(pca_train, y_train)\n",
    "y_pred = rf.predict(pca_test)\n",
    "accuracy_score(y_test, y_pred)"
   ]
  },
  {
   "cell_type": "markdown",
   "id": "sporting-phrase",
   "metadata": {},
   "source": [
    "### Only a slight Improvement\n",
    "It seems like decorrelating the data didn't had a mayor effect on the performance, but on the contrary aumented the bias of the model, can the inbalance of the categorical variables related to diagnosis hava an impact on the performance?. To test this a subset data set named d_diab_no_diag was created on the EDA Notebook."
   ]
  },
  {
   "cell_type": "code",
   "execution_count": 130,
   "id": "addressed-register",
   "metadata": {},
   "outputs": [],
   "source": [
    "d_diab_no_diag = pd.read_pickle(f'{D_ROUTE}/Data/d_diab_no_diag_10.pickle')"
   ]
  },
  {
   "cell_type": "code",
   "execution_count": 131,
   "id": "compatible-diversity",
   "metadata": {
    "tags": []
   },
   "outputs": [],
   "source": [
    "ids_df = d_diab_no_diag[['encounter_id', 'patient_nbr']]\n",
    "d_diab_no_diag = d_diab_no_diag.drop(['encounter_id', 'patient_nbr'], axis=1)\n",
    "\n"
   ]
  },
  {
   "cell_type": "code",
   "execution_count": 171,
   "id": "proved-lambda",
   "metadata": {},
   "outputs": [
    {
     "data": {
      "text/plain": [
       "RandomForestClassifier(n_estimators=500, n_jobs=10)"
      ]
     },
     "execution_count": 171,
     "metadata": {},
     "output_type": "execute_result"
    }
   ],
   "source": [
    "X_train, X_test, y_train, y_test = split_data(d_diab_no_diag,\n",
    "                                              'readmitted',\n",
    "                                              0.1)\n",
    "\n",
    "rf = RandomForestClassifier(n_estimators = 500,\n",
    "                            n_jobs = 10)\n",
    "rf.fit(X_train, y_train)\n",
    "\n"
   ]
  },
  {
   "cell_type": "code",
   "execution_count": 170,
   "id": "educational-noise",
   "metadata": {},
   "outputs": [
    {
     "name": "stdout",
     "output_type": "stream",
     "text": [
      "Accuracy: 0.593 \n",
      " Precision: 0.36980659672158556 \n",
      " Recall: 0.39798320226822875\n"
     ]
    },
    {
     "name": "stderr",
     "output_type": "stream",
     "text": [
      "/home/jvai/anaconda3/envs/dask/lib/python3.8/site-packages/sklearn/metrics/_classification.py:1245: UndefinedMetricWarning: Precision is ill-defined and being set to 0.0 in labels with no predicted samples. Use `zero_division` parameter to control this behavior.\n",
      "  _warn_prf(average, modifier, msg_start, len(result))\n"
     ]
    }
   ],
   "source": [
    "get_metrics(rf, X_test, y_test)"
   ]
  },
  {
   "cell_type": "markdown",
   "id": "meaningful-cancer",
   "metadata": {},
   "source": [
    "### Conclusion.\n",
    "\n",
    "None of the methods explored before was able to classify the samples with enough accuracy, further exploration of the data is needed and also the possibility of converting the problem to a binary classification problem by having only Radmittions and No Readmitions\n"
   ]
  },
  {
   "cell_type": "code",
   "execution_count": null,
   "id": "removable-pursuit",
   "metadata": {},
   "outputs": [],
   "source": []
  }
 ],
 "metadata": {
  "kernelspec": {
   "display_name": "Python 3",
   "language": "python",
   "name": "python3"
  },
  "language_info": {
   "codemirror_mode": {
    "name": "ipython",
    "version": 3
   },
   "file_extension": ".py",
   "mimetype": "text/x-python",
   "name": "python",
   "nbconvert_exporter": "python",
   "pygments_lexer": "ipython3",
   "version": "3.8.8"
  }
 },
 "nbformat": 4,
 "nbformat_minor": 5
}
